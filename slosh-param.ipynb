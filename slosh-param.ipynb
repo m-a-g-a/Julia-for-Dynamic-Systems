{
 "cells": [
  {
   "cell_type": "code",
   "execution_count": 1,
   "id": "35e4f2a5",
   "metadata": {},
   "outputs": [],
   "source": [
    "using DynamicalSystems, MAT, SharedArrays, Plots, ControlSystems\n",
    "\n",
    "@inline @inbounds function slosh(u,v,t)\n",
    "\n",
    "#PARAMETERS\n",
    "    \n",
    "    α=0.8;\n",
    "    AA=1.112;\n",
    "    BB=-1.531;\n",
    "    E=0.5*(u[1]^2+u[2]^2)+0.5*(u[3]^2+u[4]^2);\n",
    "    N1= 1.95;#v[1];\n",
    "    N2=-0.25; \n",
    "    μ=4.5;\n",
    "    M=(u[1]*u[4])-(u[3]*u[2]);    \n",
    "      \n",
    "#SISTEMA DE EQUAÇÕES Navarro(2012)\n",
    "        du1=-α*u[1]-(u[5]+AA*E-2)*u[2]+BB*M*u[3];#p1 \n",
    "        du2=-α*u[2]+(u[5]+AA*E+2)*u[1]+BB*M*u[4];#q1\n",
    "        du3=-α*u[3]-(u[5]+AA*E-2)*u[4]-BB*M*u[1];#p2\n",
    "        du4=-α*u[4]+(u[5]+AA*E+2)*u[3]-BB*M*u[2];#q2\n",
    "        du5= N2-N1*u[5]-μ*(u[1]*u[2]+u[3]*u[4]); #tuning parameter, measures the offset of frequencies\n",
    "  \n",
    "        return SVector{5}(du1, du2, du3, du4, du5);\n",
    "      \n",
    "end\n",
    "\n",
    "#CONDIÇÕES INICIAIS\n",
    "      u0 = [0.1; 0.1; 1.0; 1.0; 0.0]\n",
    "\n",
    "#INTERVALO DE VARIAÇÃO \n",
    "    inicial=-2.0;\n",
    "    final=2.0;\n",
    "    div=99;\n",
    "    as=inicial:(final-inicial)/div:final;#\n",
    "\n",
    "   lambda=zeros(length(as),5);\n",
    "\n",
    "    for i=1:1:length(as)\n",
    "        pp1=[as[i]];\n",
    "        ds = ContinuousDynamicalSystem(slosh, u0, pp1)\n",
    "        lambda[i,:]=lyapunovs(ds, 5000, Ttr=2000)\n",
    "        #println(i)\n",
    "    end\n",
    "\n",
    "#  MATLAB files\n",
    " file = matopen(\"lyapunov.mat\", \"w\")\n",
    " write(file, \"lyap\",lambda)\n",
    " close(file)\n",
    "\n",
    " matwrite(\"lyapunov.mat\", \n",
    "    Dict(\n",
    " \t\"n1\" => collect(as),\n",
    " \t\"lyap\" => lambda,))"
   ]
  },
  {
   "cell_type": "markdown",
   "id": "b4b30471",
   "metadata": {},
   "source": [
    "# GRÁFICOS"
   ]
  },
  {
   "cell_type": "code",
   "execution_count": null,
   "id": "39318858",
   "metadata": {},
   "outputs": [],
   "source": [
    "ds = ContinuousDynamicalSystem(slosh, u0, collect(as));\n",
    "tr = trajectory(ds, 5000;Ttr=5000);"
   ]
  },
  {
   "cell_type": "code",
   "execution_count": null,
   "id": "f4b35803",
   "metadata": {},
   "outputs": [],
   "source": [
    "#PHASE PORTRAIT p2 x q2\n",
    "default(titlefont = (14, \"arial\"), \n",
    "        legendfontsize = 14, \n",
    "        guidefont = (14, :black), \n",
    "        tickfont = (12, :black), \n",
    "        guide = \"x\", \n",
    "        framestyle = :zerolines, \n",
    "#       yminorgrid = true)\n",
    "        grid=false)\n",
    "plot(tr[:,3], tr[:,4], \n",
    "    seriestype = :scatter, \n",
    "    alpha = 0.5,\n",
    "#     xlims=(-0.0001, 0.0001),ylims=(-0.0001, 0.0001),\n",
    "    title=\"N1=1.45\", \n",
    "    label=\"N1=1.45\", \n",
    "    ms=0.02, \n",
    "    linewidth=0.02,\n",
    "    leg=false)\n",
    "    #c = :greys\n",
    "plot!(xlabel=\"p2\",ylabel=\"q2\")\n",
    " savefig(\"5_FPM_145\")"
   ]
  }
 ],
 "metadata": {
  "kernelspec": {
   "display_name": "Julia 1.4.2",
   "language": "julia",
   "name": "julia-1.4"
  },
  "language_info": {
   "file_extension": ".jl",
   "mimetype": "application/julia",
   "name": "julia",
   "version": "1.4.2"
  }
 },
 "nbformat": 4,
 "nbformat_minor": 5
}
